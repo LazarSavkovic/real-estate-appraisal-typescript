{
 "cells": [
  {
   "cell_type": "markdown",
   "id": "46429698",
   "metadata": {},
   "source": [
    "# Getting the weights for the regressor"
   ]
  },
  {
   "cell_type": "code",
   "execution_count": 3,
   "id": "748f7533",
   "metadata": {},
   "outputs": [],
   "source": [
    "import pandas as pd\n",
    "import numpy as np\n",
    "import json\n",
    "# import matplotlib.pyplot as plt\n",
    "from sklearn.model_selection import train_test_split"
   ]
  },
  {
   "cell_type": "markdown",
   "id": "1037c810",
   "metadata": {},
   "source": [
    "### importing data"
   ]
  },
  {
   "cell_type": "code",
   "execution_count": 4,
   "id": "60b4d692",
   "metadata": {},
   "outputs": [
    {
     "name": "stdout",
     "output_type": "stream",
     "text": [
      "Type: <class 'list'>\n"
     ]
    }
   ],
   "source": [
    "# Opening JSON file\n",
    "with open('apartments.json') as json_file:\n",
    "    apartments = json.load(json_file)\n",
    " \n",
    "    # Print the type of data variable\n",
    "    print(\"Type:\", type(apartments))"
   ]
  },
  {
   "cell_type": "markdown",
   "id": "49b98614",
   "metadata": {},
   "source": [
    "### making the DataFrame"
   ]
  },
  {
   "cell_type": "code",
   "execution_count": 5,
   "id": "d82c5690",
   "metadata": {},
   "outputs": [],
   "source": [
    "apts = []\n",
    "for apartment in apartments:\n",
    "    apt = {}\n",
    "    apt[\"lat\"] = apartment[\"lat\"]\n",
    "    apt[\"long\"] = apartment[\"long\"]\n",
    "    apt[\"date\"] = apartment[\"date\"]\n",
    "    apt[\"sq_mt\"] = apartment[\"sq_mt\"]\n",
    "    apt[\"rooms\"] = apartment[\"rooms\"]\n",
    "    apt[\"price\"] = apartment[\"price\"]\n",
    "    apts.append(apt)"
   ]
  },
  {
   "cell_type": "code",
   "execution_count": 6,
   "id": "df940120",
   "metadata": {},
   "outputs": [],
   "source": [
    "apt_df =pd.DataFrame(apts)"
   ]
  },
  {
   "cell_type": "code",
   "execution_count": 7,
   "id": "4bf98423",
   "metadata": {},
   "outputs": [
    {
     "data": {
      "text/html": [
       "<div>\n",
       "<style scoped>\n",
       "    .dataframe tbody tr th:only-of-type {\n",
       "        vertical-align: middle;\n",
       "    }\n",
       "\n",
       "    .dataframe tbody tr th {\n",
       "        vertical-align: top;\n",
       "    }\n",
       "\n",
       "    .dataframe thead th {\n",
       "        text-align: right;\n",
       "    }\n",
       "</style>\n",
       "<table border=\"1\" class=\"dataframe\">\n",
       "  <thead>\n",
       "    <tr style=\"text-align: right;\">\n",
       "      <th></th>\n",
       "      <th>lat</th>\n",
       "      <th>long</th>\n",
       "      <th>date</th>\n",
       "      <th>sq_mt</th>\n",
       "      <th>rooms</th>\n",
       "      <th>price</th>\n",
       "    </tr>\n",
       "  </thead>\n",
       "  <tbody>\n",
       "    <tr>\n",
       "      <th>0</th>\n",
       "      <td>44.770200</td>\n",
       "      <td>20.419700</td>\n",
       "      <td>29.08.2022.</td>\n",
       "      <td>134.00</td>\n",
       "      <td>4.5</td>\n",
       "      <td>339000</td>\n",
       "    </tr>\n",
       "    <tr>\n",
       "      <th>1</th>\n",
       "      <td>44.798600</td>\n",
       "      <td>20.472300</td>\n",
       "      <td>29.08.2022.</td>\n",
       "      <td>60.00</td>\n",
       "      <td>2.0</td>\n",
       "      <td>169000</td>\n",
       "    </tr>\n",
       "    <tr>\n",
       "      <th>2</th>\n",
       "      <td>44.793400</td>\n",
       "      <td>20.492800</td>\n",
       "      <td>29.08.2022.</td>\n",
       "      <td>110.00</td>\n",
       "      <td>3.5</td>\n",
       "      <td>239000</td>\n",
       "    </tr>\n",
       "    <tr>\n",
       "      <th>3</th>\n",
       "      <td>44.843383</td>\n",
       "      <td>20.484003</td>\n",
       "      <td>29.08.2022.</td>\n",
       "      <td>49.00</td>\n",
       "      <td>2.5</td>\n",
       "      <td>67800</td>\n",
       "    </tr>\n",
       "    <tr>\n",
       "      <th>4</th>\n",
       "      <td>44.755283</td>\n",
       "      <td>20.453176</td>\n",
       "      <td>29.08.2022.</td>\n",
       "      <td>40.00</td>\n",
       "      <td>1.5</td>\n",
       "      <td>73000</td>\n",
       "    </tr>\n",
       "    <tr>\n",
       "      <th>...</th>\n",
       "      <td>...</td>\n",
       "      <td>...</td>\n",
       "      <td>...</td>\n",
       "      <td>...</td>\n",
       "      <td>...</td>\n",
       "      <td>...</td>\n",
       "    </tr>\n",
       "    <tr>\n",
       "      <th>469</th>\n",
       "      <td>44.776801</td>\n",
       "      <td>20.532719</td>\n",
       "      <td>01.08.2022.</td>\n",
       "      <td>51.82</td>\n",
       "      <td>3.0</td>\n",
       "      <td>101049</td>\n",
       "    </tr>\n",
       "    <tr>\n",
       "      <th>470</th>\n",
       "      <td>44.805053</td>\n",
       "      <td>20.474391</td>\n",
       "      <td>01.08.2022.</td>\n",
       "      <td>66.00</td>\n",
       "      <td>3.0</td>\n",
       "      <td>208000</td>\n",
       "    </tr>\n",
       "    <tr>\n",
       "      <th>471</th>\n",
       "      <td>44.792964</td>\n",
       "      <td>20.492485</td>\n",
       "      <td>31.07.2022.</td>\n",
       "      <td>42.00</td>\n",
       "      <td>1.0</td>\n",
       "      <td>130000</td>\n",
       "    </tr>\n",
       "    <tr>\n",
       "      <th>472</th>\n",
       "      <td>44.795135</td>\n",
       "      <td>20.437267</td>\n",
       "      <td>31.07.2022.</td>\n",
       "      <td>110.00</td>\n",
       "      <td>5.0</td>\n",
       "      <td>140000</td>\n",
       "    </tr>\n",
       "    <tr>\n",
       "      <th>473</th>\n",
       "      <td>44.818260</td>\n",
       "      <td>20.399930</td>\n",
       "      <td>31.07.2022.</td>\n",
       "      <td>66.00</td>\n",
       "      <td>2.5</td>\n",
       "      <td>160000</td>\n",
       "    </tr>\n",
       "  </tbody>\n",
       "</table>\n",
       "<p>474 rows × 6 columns</p>\n",
       "</div>"
      ],
      "text/plain": [
       "           lat       long         date   sq_mt  rooms   price\n",
       "0    44.770200  20.419700  29.08.2022.  134.00    4.5  339000\n",
       "1    44.798600  20.472300  29.08.2022.   60.00    2.0  169000\n",
       "2    44.793400  20.492800  29.08.2022.  110.00    3.5  239000\n",
       "3    44.843383  20.484003  29.08.2022.   49.00    2.5   67800\n",
       "4    44.755283  20.453176  29.08.2022.   40.00    1.5   73000\n",
       "..         ...        ...          ...     ...    ...     ...\n",
       "469  44.776801  20.532719  01.08.2022.   51.82    3.0  101049\n",
       "470  44.805053  20.474391  01.08.2022.   66.00    3.0  208000\n",
       "471  44.792964  20.492485  31.07.2022.   42.00    1.0  130000\n",
       "472  44.795135  20.437267  31.07.2022.  110.00    5.0  140000\n",
       "473  44.818260  20.399930  31.07.2022.   66.00    2.5  160000\n",
       "\n",
       "[474 rows x 6 columns]"
      ]
     },
     "execution_count": 7,
     "metadata": {},
     "output_type": "execute_result"
    }
   ],
   "source": [
    "apt_df"
   ]
  },
  {
   "cell_type": "code",
   "execution_count": 8,
   "id": "d7fbdd08",
   "metadata": {},
   "outputs": [],
   "source": [
    "# plt.plot(apt_df.long, apt_df.lat, \".\")"
   ]
  },
  {
   "cell_type": "markdown",
   "id": "f7c20277",
   "metadata": {},
   "source": [
    "### Preparing data for ML"
   ]
  },
  {
   "cell_type": "code",
   "execution_count": 9,
   "id": "8e29ea72",
   "metadata": {},
   "outputs": [],
   "source": [
    "X = apt_df.drop([\"price\", \"date\"], axis=1).to_numpy()\n",
    "y = apt_df.price.to_numpy()"
   ]
  },
  {
   "cell_type": "markdown",
   "id": "c5ce09c9",
   "metadata": {},
   "source": [
    "#### Linear regressor"
   ]
  },
  {
   "cell_type": "code",
   "execution_count": 10,
   "id": "1a0653e5",
   "metadata": {},
   "outputs": [
    {
     "name": "stdout",
     "output_type": "stream",
     "text": [
      "linear model coeff (w): [601494.25997073 138160.25398513   5720.21981834 -77965.5288013 ]\n",
      "linear model intercept (b): -29791316.084\n",
      "R-squared score (training): 0.737\n",
      "R-squared score (test): 0.472\n"
     ]
    }
   ],
   "source": [
    "from sklearn.linear_model import LinearRegression\n",
    "\n",
    "X_train, X_test, y_train, y_test = train_test_split(X, y,\n",
    "                                                   random_state = 0)\n",
    "linreg = LinearRegression().fit(X_train, y_train)\n",
    "\n",
    "print('linear model coeff (w): {}'\n",
    "     .format(linreg.coef_))\n",
    "print('linear model intercept (b): {:.3f}'\n",
    "     .format(linreg.intercept_))\n",
    "print('R-squared score (training): {:.3f}'\n",
    "     .format(linreg.score(X_train, y_train)))\n",
    "print('R-squared score (test): {:.3f}'\n",
    "     .format(linreg.score(X_test, y_test)))"
   ]
  },
  {
   "cell_type": "markdown",
   "id": "2ee64b2a",
   "metadata": {},
   "source": [
    "#### Linear regressor with ridge"
   ]
  },
  {
   "cell_type": "code",
   "execution_count": 18,
   "id": "0969f50c",
   "metadata": {},
   "outputs": [
    {
     "name": "stdout",
     "output_type": "stream",
     "text": [
      "Crime dataset\n",
      "ridge regression linear model intercept: -167166.63382314288\n",
      "ridge regression linear model coeff:\n",
      "[  2991.04624665  -1239.03267761   5225.87498814 -49602.69764803]\n",
      "R-squared score (training): 0.724\n",
      "R-squared score (test): 0.495\n",
      "Number of non-zero features: 4\n"
     ]
    }
   ],
   "source": [
    "from sklearn.linear_model import Ridge\n",
    "X_train, X_test, y_train, y_test = train_test_split(X, y,\n",
    "                                                   random_state = 0)\n",
    "\n",
    "\n",
    "linridge = Ridge(alpha=100.0).fit(X_train, y_train)\n",
    "\n",
    "print('Crime dataset')\n",
    "print('ridge regression linear model intercept: {}'\n",
    "     .format(linridge.intercept_))\n",
    "print('ridge regression linear model coeff:\\n{}'\n",
    "     .format(linridge.coef_))\n",
    "print('R-squared score (training): {:.3f}'\n",
    "     .format(linridge.score(X_train, y_train)))\n",
    "print('R-squared score (test): {:.3f}'\n",
    "     .format(linridge.score(X_test, y_test)))\n",
    "print('Number of non-zero features: {}'\n",
    "     .format(np.sum(linridge.coef_ != 0)))"
   ]
  },
  {
   "cell_type": "code",
   "execution_count": 17,
   "id": "056f325d",
   "metadata": {},
   "outputs": [
    {
     "name": "stdout",
     "output_type": "stream",
     "text": [
      "Ridge regression: effect of alpha regularization parameter\n",
      "\n",
      "Alpha = 0.00\n",
      "num abs(coeff) > 1.0: 4, r-squared training: 0.74, r-squared test: 0.47\n",
      "\n",
      "Alpha = 1.00\n",
      "num abs(coeff) > 1.0: 4, r-squared training: 0.73, r-squared test: 0.48\n",
      "\n",
      "Alpha = 10.00\n",
      "num abs(coeff) > 1.0: 4, r-squared training: 0.73, r-squared test: 0.48\n",
      "\n",
      "Alpha = 20.00\n",
      "num abs(coeff) > 1.0: 4, r-squared training: 0.73, r-squared test: 0.48\n",
      "\n",
      "Alpha = 50.00\n",
      "num abs(coeff) > 1.0: 4, r-squared training: 0.73, r-squared test: 0.49\n",
      "\n",
      "Alpha = 100.00\n",
      "num abs(coeff) > 1.0: 4, r-squared training: 0.72, r-squared test: 0.49\n",
      "\n",
      "Alpha = 1000.00\n",
      "num abs(coeff) > 1.0: 4, r-squared training: 0.70, r-squared test: 0.48\n",
      "\n"
     ]
    },
    {
     "data": {
      "text/plain": [
       "array([   306.83376855,   -139.57289027,   4550.29191328, -11511.21968933])"
      ]
     },
     "execution_count": 17,
     "metadata": {},
     "output_type": "execute_result"
    }
   ],
   "source": [
    "print('Ridge regression: effect of alpha regularization parameter\\n')\n",
    "for this_alpha in [0, 1, 10, 20, 50, 100, 1000]:\n",
    "    linridge = Ridge(alpha = this_alpha).fit(X_train, y_train)\n",
    "    r2_train = linridge.score(X_train, y_train)\n",
    "    r2_test = linridge.score(X_test, y_test)\n",
    "    num_coeff_bigger = np.sum(abs(linridge.coef_) > 1.0)\n",
    "    print('Alpha = {:.2f}\\nnum abs(coeff) > 1.0: {}, \\\n",
    "r-squared training: {:.2f}, r-squared test: {:.2f}\\n'\n",
    "         .format(this_alpha, num_coeff_bigger, r2_train, r2_test))\n",
    "linridge.coef_"
   ]
  },
  {
   "cell_type": "code",
   "execution_count": 19,
   "id": "de12e26d",
   "metadata": {},
   "outputs": [],
   "source": [
    "weights = {}\n",
    "weights[\"intercept\"] = linridge.intercept_\n",
    "weights[\"coefficients\"] = list(linridge.coef_)\n",
    "with open('weights.json', 'w') as file:\n",
    "    json.dump(weights, file)"
   ]
  },
  {
   "cell_type": "markdown",
   "id": "765b16fb",
   "metadata": {},
   "source": [
    "#### Linear regressor with ridge and data scaling"
   ]
  },
  {
   "cell_type": "code",
   "execution_count": 9,
   "id": "4d871e14",
   "metadata": {},
   "outputs": [
    {
     "name": "stdout",
     "output_type": "stream",
     "text": [
      "Crime dataset\n",
      "ridge regression linear model intercept: 63749.612928978866\n",
      "ridge regression linear model coeff:\n",
      "[ 29926.31640935  -9006.59321678 254823.17930099 218096.23811708]\n",
      "R-squared score (training): 0.293\n",
      "R-squared score (test): 0.344\n",
      "Number of non-zero features: 4\n"
     ]
    }
   ],
   "source": [
    "from sklearn.preprocessing import MinMaxScaler\n",
    "scaler = MinMaxScaler()\n",
    "\n",
    "from sklearn.linear_model import Ridge\n",
    "X_train, X_test, y_train, y_test = train_test_split(X, y,\n",
    "                                                   random_state = 0)\n",
    "\n",
    "X_train_scaled = scaler.fit_transform(X_train)\n",
    "X_test_scaled = scaler.transform(X_test)\n",
    "\n",
    "linridge = Ridge(alpha=20.0).fit(X_train_scaled, y_train)\n",
    "\n",
    "print('Crime dataset')\n",
    "print('ridge regression linear model intercept: {}'\n",
    "     .format(linridge.intercept_))\n",
    "print('ridge regression linear model coeff:\\n{}'\n",
    "     .format(linridge.coef_))\n",
    "print('R-squared score (training): {:.3f}'\n",
    "     .format(linridge.score(X_train_scaled, y_train)))\n",
    "print('R-squared score (test): {:.3f}'\n",
    "     .format(linridge.score(X_test_scaled, y_test)))\n",
    "print('Number of non-zero features: {}'\n",
    "     .format(np.sum(linridge.coef_ != 0)))"
   ]
  },
  {
   "cell_type": "markdown",
   "id": "65f76068",
   "metadata": {},
   "source": [
    "#### finding the best alpha parameter"
   ]
  },
  {
   "cell_type": "code",
   "execution_count": 10,
   "id": "71e51feb",
   "metadata": {
    "scrolled": true
   },
   "outputs": [
    {
     "name": "stdout",
     "output_type": "stream",
     "text": [
      "Ridge regression: effect of alpha regularization parameter\n",
      "\n",
      "Alpha = 0.00\n",
      "num abs(coeff) > 1.0: 4, r-squared training: 0.74, r-squared test: 0.47\n",
      "\n",
      "Alpha = 1.00\n",
      "num abs(coeff) > 1.0: 4, r-squared training: 0.66, r-squared test: 0.56\n",
      "\n",
      "Alpha = 10.00\n",
      "num abs(coeff) > 1.0: 4, r-squared training: 0.38, r-squared test: 0.41\n",
      "\n",
      "Alpha = 20.00\n",
      "num abs(coeff) > 1.0: 4, r-squared training: 0.29, r-squared test: 0.34\n",
      "\n",
      "Alpha = 50.00\n",
      "num abs(coeff) > 1.0: 4, r-squared training: 0.19, r-squared test: 0.23\n",
      "\n",
      "Alpha = 100.00\n",
      "num abs(coeff) > 1.0: 4, r-squared training: 0.12, r-squared test: 0.14\n",
      "\n",
      "Alpha = 1000.00\n",
      "num abs(coeff) > 1.0: 4, r-squared training: 0.01, r-squared test: 0.00\n",
      "\n"
     ]
    },
    {
     "data": {
      "text/plain": [
       "array([  689.58641122,  -202.49696275,  7421.00072051, 10360.88115458])"
      ]
     },
     "execution_count": 10,
     "metadata": {},
     "output_type": "execute_result"
    }
   ],
   "source": [
    "print('Ridge regression: effect of alpha regularization parameter\\n')\n",
    "for this_alpha in [0, 1, 10, 20, 50, 100, 1000]:\n",
    "    linridge = Ridge(alpha = this_alpha).fit(X_train_scaled, y_train)\n",
    "    r2_train = linridge.score(X_train_scaled, y_train)\n",
    "    r2_test = linridge.score(X_test_scaled, y_test)\n",
    "    num_coeff_bigger = np.sum(abs(linridge.coef_) > 1.0)\n",
    "    print('Alpha = {:.2f}\\nnum abs(coeff) > 1.0: {}, \\\n",
    "r-squared training: {:.2f}, r-squared test: {:.2f}\\n'\n",
    "         .format(this_alpha, num_coeff_bigger, r2_train, r2_test))\n",
    "linridge.coef_"
   ]
  },
  {
   "cell_type": "markdown",
   "id": "42e60c12",
   "metadata": {},
   "source": [
    "#### Using the best alpha parameter"
   ]
  },
  {
   "cell_type": "code",
   "execution_count": 11,
   "id": "1eda2fca",
   "metadata": {},
   "outputs": [],
   "source": [
    "linridge = Ridge(alpha = 1).fit(X_train_scaled, y_train)\n",
    "r2_train = linridge.score(X_train_scaled, y_train)\n",
    "r2_test = linridge.score(X_test_scaled, y_test)\n",
    "predictions = linridge.predict(X_test_scaled)"
   ]
  },
  {
   "cell_type": "code",
   "execution_count": 12,
   "id": "f90d36e9",
   "metadata": {},
   "outputs": [],
   "source": [
    "new_df = pd.DataFrame()\n",
    "new_df[\"predictions\"] = predictions\n",
    "new_df[\"y_test\"] = y_test\n",
    "new_df.head(50)"
   ]
  },
  {
   "cell_type": "code",
   "execution_count": 15,
   "id": "0bc7c1dd",
   "metadata": {
    "scrolled": true
   },
   "outputs": [
    {
     "data": {
      "text/plain": [
       "array([ 189080.88062186,   11720.96837901, 1605422.31442403,\n",
       "         -9944.09381746])"
      ]
     },
     "execution_count": 15,
     "metadata": {},
     "output_type": "execute_result"
    }
   ],
   "source": [
    "X_train_scaled\n",
    "linridge.coef_"
   ]
  },
  {
   "cell_type": "code",
   "execution_count": 16,
   "id": "896338b7",
   "metadata": {},
   "outputs": [
    {
     "data": {
      "text/plain": [
       "-190078.00275754"
      ]
     },
     "execution_count": 16,
     "metadata": {},
     "output_type": "execute_result"
    }
   ],
   "source": [
    "linridge.intercept_"
   ]
  },
  {
   "cell_type": "code",
   "execution_count": 17,
   "id": "263e1894",
   "metadata": {
    "scrolled": true
   },
   "outputs": [
    {
     "data": {
      "text/plain": [
       "array([0.68089477, 0.53179326, 0.2262931 , 0.66666667])"
      ]
     },
     "execution_count": 17,
     "metadata": {},
     "output_type": "execute_result"
    }
   ],
   "source": [
    "X_test_scaled[0]"
   ]
  },
  {
   "cell_type": "code",
   "execution_count": 18,
   "id": "4f2cdfe8",
   "metadata": {},
   "outputs": [
    {
     "data": {
      "text/plain": [
       "249000"
      ]
     },
     "execution_count": 18,
     "metadata": {},
     "output_type": "execute_result"
    }
   ],
   "source": [
    "y_test[0]"
   ]
  },
  {
   "cell_type": "code",
   "execution_count": 19,
   "id": "4b0bb7ee",
   "metadata": {},
   "outputs": [
    {
     "name": "stdout",
     "output_type": "stream",
     "text": [
      "0.6808947700063044\n",
      "189080.88062185762\n",
      "==================\n",
      "128744.18272360924\n",
      "******************\n",
      "0.5317932637487885\n",
      "11720.968379006605\n",
      "==================\n",
      "6233.13202856827\n",
      "******************\n",
      "0.22629310344827586\n",
      "1605422.3144240326\n",
      "==================\n",
      "363295.99787612807\n",
      "******************\n",
      "0.6666666666666665\n",
      "-9944.093817455787\n",
      "==================\n",
      "-6629.395878303856\n",
      "******************\n",
      "[128744.18272360924, 6233.13202856827, 363295.99787612807, -6629.395878303856]\n"
     ]
    }
   ],
   "source": [
    "sum1 = []\n",
    "for i in range(4):\n",
    "\n",
    "    print(X_test_scaled[0][i])\n",
    "    print(linridge.coef_[i])\n",
    "    print(\"==================\")\n",
    "    mul_res = X_test_scaled[0][i]*linridge.coef_[i]\n",
    "    print(mul_res)\n",
    "    print(\"******************\")\n",
    "    sum1.append(mul_res)\n",
    "print(sum1)"
   ]
  },
  {
   "cell_type": "code",
   "execution_count": 21,
   "id": "504265fd",
   "metadata": {},
   "outputs": [
    {
     "data": {
      "text/plain": [
       "301565.91399246175"
      ]
     },
     "execution_count": 21,
     "metadata": {},
     "output_type": "execute_result"
    }
   ],
   "source": [
    "sum(sum1)+linridge.intercept_"
   ]
  },
  {
   "cell_type": "markdown",
   "id": "ccaef80a",
   "metadata": {},
   "source": [
    "### Exporting the coeffs and intercept"
   ]
  },
  {
   "cell_type": "code",
   "execution_count": 22,
   "id": "21f826a7",
   "metadata": {},
   "outputs": [],
   "source": [
    "weights = {}\n",
    "weights[\"intercept\"] = linridge.intercept_\n",
    "weights[\"coefficients\"] = list(linridge.coef_)\n",
    "with open('weights.json', 'w') as file:\n",
    "    json.dump(weights, file)"
   ]
  },
  {
   "cell_type": "markdown",
   "id": "79cc5141",
   "metadata": {},
   "source": [
    "#### Neural netwrk"
   ]
  },
  {
   "cell_type": "code",
   "execution_count": 30,
   "id": "f65ee7d4",
   "metadata": {
    "scrolled": true
   },
   "outputs": [
    {
     "name": "stdout",
     "output_type": "stream",
     "text": [
      "-0.021154840100237715 where, activation is tanh and alpha is 0.0001\n"
     ]
    },
    {
     "name": "stderr",
     "output_type": "stream",
     "text": [
      "C:\\Users\\savko\\Anaconda3\\lib\\site-packages\\sklearn\\neural_network\\_multilayer_perceptron.py:549: ConvergenceWarning: lbfgs failed to converge (status=1):\n",
      "STOP: TOTAL NO. of ITERATIONS REACHED LIMIT.\n",
      "\n",
      "Increase the number of iterations (max_iter) or scale the data as shown in:\n",
      "    https://scikit-learn.org/stable/modules/preprocessing.html\n",
      "  self.n_iter_ = _check_optimize_result(\"lbfgs\", opt_res, self.max_iter)\n"
     ]
    },
    {
     "name": "stdout",
     "output_type": "stream",
     "text": [
      "0.2496935224309269 where, activation is tanh and alpha is 1.0\n"
     ]
    },
    {
     "name": "stderr",
     "output_type": "stream",
     "text": [
      "C:\\Users\\savko\\Anaconda3\\lib\\site-packages\\sklearn\\neural_network\\_multilayer_perceptron.py:549: ConvergenceWarning: lbfgs failed to converge (status=1):\n",
      "STOP: TOTAL NO. of ITERATIONS REACHED LIMIT.\n",
      "\n",
      "Increase the number of iterations (max_iter) or scale the data as shown in:\n",
      "    https://scikit-learn.org/stable/modules/preprocessing.html\n",
      "  self.n_iter_ = _check_optimize_result(\"lbfgs\", opt_res, self.max_iter)\n"
     ]
    },
    {
     "name": "stdout",
     "output_type": "stream",
     "text": [
      "0.22815152657639015 where, activation is tanh and alpha is 100\n",
      "0.6722270258035464 where, activation is relu and alpha is 0.0001\n"
     ]
    },
    {
     "name": "stderr",
     "output_type": "stream",
     "text": [
      "C:\\Users\\savko\\Anaconda3\\lib\\site-packages\\sklearn\\neural_network\\_multilayer_perceptron.py:549: ConvergenceWarning: lbfgs failed to converge (status=2):\n",
      "ABNORMAL_TERMINATION_IN_LNSRCH.\n",
      "\n",
      "Increase the number of iterations (max_iter) or scale the data as shown in:\n",
      "    https://scikit-learn.org/stable/modules/preprocessing.html\n",
      "  self.n_iter_ = _check_optimize_result(\"lbfgs\", opt_res, self.max_iter)\n"
     ]
    },
    {
     "name": "stdout",
     "output_type": "stream",
     "text": [
      "0.6743898154587042 where, activation is relu and alpha is 1.0\n",
      "0.685166992093396 where, activation is relu and alpha is 100\n"
     ]
    }
   ],
   "source": [
    "from sklearn.neural_network import MLPRegressor\n",
    "import matplotlib.pyplot as plt\n",
    "\n",
    "\n",
    "\n",
    "X_train, X_test, y_train, y_test = train_test_split(X, y, random_state = 0)\n",
    "\n",
    "for thisactivation in ['tanh', 'relu']:\n",
    "    for thisalpha in [0.0001, 1.0, 100]:\n",
    "        mlpreg = MLPRegressor(hidden_layer_sizes = [100,100],\n",
    "                             activation = thisactivation,\n",
    "                             alpha = thisalpha,\n",
    "                             solver = 'lbfgs').fit(X_train, y_train)\n",
    "        score = mlpreg.score(X_test, y_test)\n",
    "        print(str(score) + \" where, activation is \" + thisactivation + \" and alpha is \" + str(thisalpha))\n",
    "        "
   ]
  },
  {
   "cell_type": "code",
   "execution_count": 35,
   "id": "ec6b2666",
   "metadata": {},
   "outputs": [
    {
     "name": "stdout",
     "output_type": "stream",
     "text": [
      "0.6813593339864725\n"
     ]
    },
    {
     "name": "stderr",
     "output_type": "stream",
     "text": [
      "C:\\Users\\savko\\Anaconda3\\lib\\site-packages\\sklearn\\neural_network\\_multilayer_perceptron.py:549: ConvergenceWarning: lbfgs failed to converge (status=1):\n",
      "STOP: TOTAL NO. of ITERATIONS REACHED LIMIT.\n",
      "\n",
      "Increase the number of iterations (max_iter) or scale the data as shown in:\n",
      "    https://scikit-learn.org/stable/modules/preprocessing.html\n",
      "  self.n_iter_ = _check_optimize_result(\"lbfgs\", opt_res, self.max_iter)\n"
     ]
    },
    {
     "data": {
      "text/html": [
       "<div>\n",
       "<style scoped>\n",
       "    .dataframe tbody tr th:only-of-type {\n",
       "        vertical-align: middle;\n",
       "    }\n",
       "\n",
       "    .dataframe tbody tr th {\n",
       "        vertical-align: top;\n",
       "    }\n",
       "\n",
       "    .dataframe thead th {\n",
       "        text-align: right;\n",
       "    }\n",
       "</style>\n",
       "<table border=\"1\" class=\"dataframe\">\n",
       "  <thead>\n",
       "    <tr style=\"text-align: right;\">\n",
       "      <th></th>\n",
       "      <th>predictions</th>\n",
       "      <th>y_test</th>\n",
       "    </tr>\n",
       "  </thead>\n",
       "  <tbody>\n",
       "    <tr>\n",
       "      <th>0</th>\n",
       "      <td>297510.686440</td>\n",
       "      <td>249000</td>\n",
       "    </tr>\n",
       "    <tr>\n",
       "      <th>1</th>\n",
       "      <td>253247.439540</td>\n",
       "      <td>175000</td>\n",
       "    </tr>\n",
       "    <tr>\n",
       "      <th>2</th>\n",
       "      <td>124579.846680</td>\n",
       "      <td>250000</td>\n",
       "    </tr>\n",
       "    <tr>\n",
       "      <th>3</th>\n",
       "      <td>63238.056995</td>\n",
       "      <td>88000</td>\n",
       "    </tr>\n",
       "    <tr>\n",
       "      <th>4</th>\n",
       "      <td>209867.784020</td>\n",
       "      <td>305000</td>\n",
       "    </tr>\n",
       "    <tr>\n",
       "      <th>5</th>\n",
       "      <td>79751.793013</td>\n",
       "      <td>45000</td>\n",
       "    </tr>\n",
       "    <tr>\n",
       "      <th>6</th>\n",
       "      <td>80992.607859</td>\n",
       "      <td>125000</td>\n",
       "    </tr>\n",
       "    <tr>\n",
       "      <th>7</th>\n",
       "      <td>300377.500433</td>\n",
       "      <td>350104</td>\n",
       "    </tr>\n",
       "    <tr>\n",
       "      <th>8</th>\n",
       "      <td>142626.486431</td>\n",
       "      <td>149000</td>\n",
       "    </tr>\n",
       "    <tr>\n",
       "      <th>9</th>\n",
       "      <td>100572.217299</td>\n",
       "      <td>120000</td>\n",
       "    </tr>\n",
       "    <tr>\n",
       "      <th>10</th>\n",
       "      <td>258987.884223</td>\n",
       "      <td>239000</td>\n",
       "    </tr>\n",
       "    <tr>\n",
       "      <th>11</th>\n",
       "      <td>149173.556760</td>\n",
       "      <td>235000</td>\n",
       "    </tr>\n",
       "    <tr>\n",
       "      <th>12</th>\n",
       "      <td>165117.922285</td>\n",
       "      <td>190000</td>\n",
       "    </tr>\n",
       "    <tr>\n",
       "      <th>13</th>\n",
       "      <td>265354.740551</td>\n",
       "      <td>215000</td>\n",
       "    </tr>\n",
       "    <tr>\n",
       "      <th>14</th>\n",
       "      <td>248066.932521</td>\n",
       "      <td>263000</td>\n",
       "    </tr>\n",
       "    <tr>\n",
       "      <th>15</th>\n",
       "      <td>313717.191958</td>\n",
       "      <td>390000</td>\n",
       "    </tr>\n",
       "    <tr>\n",
       "      <th>16</th>\n",
       "      <td>392809.539124</td>\n",
       "      <td>560000</td>\n",
       "    </tr>\n",
       "    <tr>\n",
       "      <th>17</th>\n",
       "      <td>222093.882688</td>\n",
       "      <td>240000</td>\n",
       "    </tr>\n",
       "    <tr>\n",
       "      <th>18</th>\n",
       "      <td>326425.146739</td>\n",
       "      <td>315000</td>\n",
       "    </tr>\n",
       "    <tr>\n",
       "      <th>19</th>\n",
       "      <td>329049.409876</td>\n",
       "      <td>348000</td>\n",
       "    </tr>\n",
       "    <tr>\n",
       "      <th>20</th>\n",
       "      <td>309931.058543</td>\n",
       "      <td>370000</td>\n",
       "    </tr>\n",
       "    <tr>\n",
       "      <th>21</th>\n",
       "      <td>93600.482845</td>\n",
       "      <td>72160</td>\n",
       "    </tr>\n",
       "    <tr>\n",
       "      <th>22</th>\n",
       "      <td>146259.301623</td>\n",
       "      <td>276888</td>\n",
       "    </tr>\n",
       "    <tr>\n",
       "      <th>23</th>\n",
       "      <td>256096.404923</td>\n",
       "      <td>215000</td>\n",
       "    </tr>\n",
       "    <tr>\n",
       "      <th>24</th>\n",
       "      <td>278094.658350</td>\n",
       "      <td>313000</td>\n",
       "    </tr>\n",
       "    <tr>\n",
       "      <th>25</th>\n",
       "      <td>140107.854820</td>\n",
       "      <td>110000</td>\n",
       "    </tr>\n",
       "    <tr>\n",
       "      <th>26</th>\n",
       "      <td>278102.272410</td>\n",
       "      <td>400000</td>\n",
       "    </tr>\n",
       "    <tr>\n",
       "      <th>27</th>\n",
       "      <td>196011.377249</td>\n",
       "      <td>225000</td>\n",
       "    </tr>\n",
       "    <tr>\n",
       "      <th>28</th>\n",
       "      <td>114125.198572</td>\n",
       "      <td>115000</td>\n",
       "    </tr>\n",
       "    <tr>\n",
       "      <th>29</th>\n",
       "      <td>284759.916158</td>\n",
       "      <td>225000</td>\n",
       "    </tr>\n",
       "    <tr>\n",
       "      <th>30</th>\n",
       "      <td>161016.923288</td>\n",
       "      <td>139000</td>\n",
       "    </tr>\n",
       "    <tr>\n",
       "      <th>31</th>\n",
       "      <td>266223.888572</td>\n",
       "      <td>170000</td>\n",
       "    </tr>\n",
       "    <tr>\n",
       "      <th>32</th>\n",
       "      <td>445222.419628</td>\n",
       "      <td>640000</td>\n",
       "    </tr>\n",
       "    <tr>\n",
       "      <th>33</th>\n",
       "      <td>240277.462960</td>\n",
       "      <td>189000</td>\n",
       "    </tr>\n",
       "    <tr>\n",
       "      <th>34</th>\n",
       "      <td>66460.247528</td>\n",
       "      <td>94000</td>\n",
       "    </tr>\n",
       "    <tr>\n",
       "      <th>35</th>\n",
       "      <td>156414.106203</td>\n",
       "      <td>249900</td>\n",
       "    </tr>\n",
       "    <tr>\n",
       "      <th>36</th>\n",
       "      <td>73946.368379</td>\n",
       "      <td>74500</td>\n",
       "    </tr>\n",
       "    <tr>\n",
       "      <th>37</th>\n",
       "      <td>271724.942799</td>\n",
       "      <td>303000</td>\n",
       "    </tr>\n",
       "    <tr>\n",
       "      <th>38</th>\n",
       "      <td>379581.866220</td>\n",
       "      <td>320000</td>\n",
       "    </tr>\n",
       "    <tr>\n",
       "      <th>39</th>\n",
       "      <td>121087.814419</td>\n",
       "      <td>135000</td>\n",
       "    </tr>\n",
       "    <tr>\n",
       "      <th>40</th>\n",
       "      <td>225258.767917</td>\n",
       "      <td>377888</td>\n",
       "    </tr>\n",
       "    <tr>\n",
       "      <th>41</th>\n",
       "      <td>156773.936927</td>\n",
       "      <td>169000</td>\n",
       "    </tr>\n",
       "    <tr>\n",
       "      <th>42</th>\n",
       "      <td>185617.258698</td>\n",
       "      <td>240000</td>\n",
       "    </tr>\n",
       "    <tr>\n",
       "      <th>43</th>\n",
       "      <td>124565.632965</td>\n",
       "      <td>155000</td>\n",
       "    </tr>\n",
       "    <tr>\n",
       "      <th>44</th>\n",
       "      <td>294311.725135</td>\n",
       "      <td>199000</td>\n",
       "    </tr>\n",
       "    <tr>\n",
       "      <th>45</th>\n",
       "      <td>224303.939385</td>\n",
       "      <td>179999</td>\n",
       "    </tr>\n",
       "    <tr>\n",
       "      <th>46</th>\n",
       "      <td>444672.967298</td>\n",
       "      <td>339000</td>\n",
       "    </tr>\n",
       "    <tr>\n",
       "      <th>47</th>\n",
       "      <td>306754.137976</td>\n",
       "      <td>455000</td>\n",
       "    </tr>\n",
       "    <tr>\n",
       "      <th>48</th>\n",
       "      <td>80961.238866</td>\n",
       "      <td>93000</td>\n",
       "    </tr>\n",
       "    <tr>\n",
       "      <th>49</th>\n",
       "      <td>82544.930246</td>\n",
       "      <td>122498</td>\n",
       "    </tr>\n",
       "  </tbody>\n",
       "</table>\n",
       "</div>"
      ],
      "text/plain": [
       "      predictions  y_test\n",
       "0   297510.686440  249000\n",
       "1   253247.439540  175000\n",
       "2   124579.846680  250000\n",
       "3    63238.056995   88000\n",
       "4   209867.784020  305000\n",
       "5    79751.793013   45000\n",
       "6    80992.607859  125000\n",
       "7   300377.500433  350104\n",
       "8   142626.486431  149000\n",
       "9   100572.217299  120000\n",
       "10  258987.884223  239000\n",
       "11  149173.556760  235000\n",
       "12  165117.922285  190000\n",
       "13  265354.740551  215000\n",
       "14  248066.932521  263000\n",
       "15  313717.191958  390000\n",
       "16  392809.539124  560000\n",
       "17  222093.882688  240000\n",
       "18  326425.146739  315000\n",
       "19  329049.409876  348000\n",
       "20  309931.058543  370000\n",
       "21   93600.482845   72160\n",
       "22  146259.301623  276888\n",
       "23  256096.404923  215000\n",
       "24  278094.658350  313000\n",
       "25  140107.854820  110000\n",
       "26  278102.272410  400000\n",
       "27  196011.377249  225000\n",
       "28  114125.198572  115000\n",
       "29  284759.916158  225000\n",
       "30  161016.923288  139000\n",
       "31  266223.888572  170000\n",
       "32  445222.419628  640000\n",
       "33  240277.462960  189000\n",
       "34   66460.247528   94000\n",
       "35  156414.106203  249900\n",
       "36   73946.368379   74500\n",
       "37  271724.942799  303000\n",
       "38  379581.866220  320000\n",
       "39  121087.814419  135000\n",
       "40  225258.767917  377888\n",
       "41  156773.936927  169000\n",
       "42  185617.258698  240000\n",
       "43  124565.632965  155000\n",
       "44  294311.725135  199000\n",
       "45  224303.939385  179999\n",
       "46  444672.967298  339000\n",
       "47  306754.137976  455000\n",
       "48   80961.238866   93000\n",
       "49   82544.930246  122498"
      ]
     },
     "execution_count": 35,
     "metadata": {},
     "output_type": "execute_result"
    }
   ],
   "source": [
    "from sklearn.neural_network import MLPRegressor\n",
    "import matplotlib.pyplot as plt\n",
    "\n",
    "\n",
    "\n",
    "X_train, X_test, y_train, y_test = train_test_split(X, y, random_state = 0)\n",
    "\n",
    "\n",
    "\n",
    "mlpreg = MLPRegressor(hidden_layer_sizes = [100,100],\n",
    "                     activation = \"relu\",\n",
    "                     alpha = 300,\n",
    "                     solver = 'lbfgs').fit(X_train, y_train)\n",
    "score = mlpreg.score(X_test, y_test)\n",
    "print(str(score))\n",
    "\n",
    "predictions = mlpreg.predict(X_test)\n",
    "new_df = pd.DataFrame()\n",
    "new_df[\"predictions\"] = predictions\n",
    "new_df[\"y_test\"] = y_test\n",
    "new_df.head(50)"
   ]
  }
 ],
 "metadata": {
  "kernelspec": {
   "display_name": "Python 3 (ipykernel)",
   "language": "python",
   "name": "python3"
  },
  "language_info": {
   "codemirror_mode": {
    "name": "ipython",
    "version": 3
   },
   "file_extension": ".py",
   "mimetype": "text/x-python",
   "name": "python",
   "nbconvert_exporter": "python",
   "pygments_lexer": "ipython3",
   "version": "3.9.12"
  }
 },
 "nbformat": 4,
 "nbformat_minor": 5
}
