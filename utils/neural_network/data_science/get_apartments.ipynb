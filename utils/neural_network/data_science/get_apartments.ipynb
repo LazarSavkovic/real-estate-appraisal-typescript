{
 "cells": [
  {
   "cell_type": "code",
   "execution_count": 1,
   "id": "579539da",
   "metadata": {},
   "outputs": [],
   "source": [
    "import requests\n",
    "from bs4 import BeautifulSoup\n",
    "import json\n",
    "import re\n",
    "import urllib\n",
    "\n",
    "base_url = \"https://www.halooglasi.com\"\n",
    "apartments = []"
   ]
  },
  {
   "cell_type": "code",
   "execution_count": 2,
   "id": "15c8e9f0",
   "metadata": {},
   "outputs": [],
   "source": [
    "def get_sqs_rooms(apt):\n",
    "    list1 = []\n",
    "    for feature in apt.find(class_ ='product-features').children:\n",
    "        list1.append(feature.div.get_text(strip=True))\n",
    "    sq_mt_str = re.sub(r\",\", r\".\", (re.sub(r\"\\s.+\",\"\", list1[0])))\n",
    "    sq_mt = float(sq_mt_str)\n",
    "    rooms = float(re.sub(\"[^0-9.]\", \"\", list1[1]))\n",
    "    \n",
    "    # ne znam jos sta da radim sa spratnoscu \n",
    "    \n",
    "    return sq_mt, rooms"
   ]
  },
  {
   "cell_type": "code",
   "execution_count": 3,
   "id": "892559be",
   "metadata": {},
   "outputs": [],
   "source": [
    "def get_price(apt):\n",
    "    string = apt.find(class_ ='central-feature').span.attrs.get(\"data-value\", None)\n",
    "    price = int(re.sub(r\"[.]\", \"\", string))\n",
    "    return price"
   ]
  },
  {
   "cell_type": "code",
   "execution_count": 4,
   "id": "2e9f64df",
   "metadata": {},
   "outputs": [],
   "source": [
    "def get_price_by_surface(apt):\n",
    "    \n",
    "    string = apt.find(class_ ='price-by-surface').get_text(strip=True)\n",
    "    price_by_surface = re.sub(r\"\\D\", \"\", string)[:-1]\n",
    "    return price_by_surface"
   ]
  },
  {
   "cell_type": "code",
   "execution_count": 5,
   "id": "b25f50af",
   "metadata": {},
   "outputs": [],
   "source": [
    "def get_apt_link(apt):\n",
    "\n",
    "    link = apt.find(class_ ='product-title').a.attrs.get(\"href\", None)\n",
    "    new_url = base_url + link\n",
    "    return new_url"
   ]
  },
  {
   "cell_type": "code",
   "execution_count": 6,
   "id": "461c018a",
   "metadata": {},
   "outputs": [],
   "source": [
    "def get_latlong(url):\n",
    "    raw_text = urllib.request.urlopen(new_url).read()\n",
    "    utf_text = raw_text.decode('utf-8')\n",
    "    soup = BeautifulSoup(utf_text)\n",
    "\n",
    "    scripts = soup.findAll(\"script\")\n",
    "\n",
    "    target_script = scripts[20].text\n",
    "\n",
    "    lat_long_str = re.search('\"GeoLocationRPT\"[/s]*:[/s]*\"([0-9.,]+)\"', target_script)[1]\n",
    "    lat = float(re.search(\"([0-9.]+),\", lat_long_str)[1])\n",
    "    long = float(re.search(\",([0-9.]+)\", lat_long_str)[1])\n",
    "    \n",
    "    return lat, long"
   ]
  },
  {
   "cell_type": "code",
   "execution_count": 7,
   "id": "64b74436",
   "metadata": {},
   "outputs": [],
   "source": [
    "for i in range(100):\n",
    "    \n",
    "    result = requests.get(\"https://www.halooglasi.com/nekretnine/prodaja-stanova/beograd?page={}\".format(i+1)) \n",
    "    soup = BeautifulSoup(result.content, 'html.parser', from_encoding=\"iso-8859-8\", exclude_encodings=[\"ISO-8859-7\"])\n",
    "    central = soup.find(class_ = 'central-content fleft col-sm-9 col-xs-12' ) \n",
    "    apts = central.find_all(class_ ='product-item product-list-item Premium real-estates my-product-placeholder')\n",
    "\n",
    "    for apt in apts:\n",
    "        apartment = {}\n",
    "\n",
    "        apartment[\"price\"] = get_price(apt)\n",
    "        apartment[\"image\"] = apt.img.attrs.get(\"src\", None)\n",
    "        \n",
    "        apartment[\"price_by_surface\"] = get_price_by_surface(apt)\n",
    "        apartment[\"subtitle_places\"] = []\n",
    "        for place in apt.find(class_ ='subtitle-places').children:\n",
    "            apartment[\"subtitle_places\"].append(place.get_text(strip=True))\n",
    "        apartment[\"features\"] = []\n",
    "        for feature in apt.find(class_ ='product-features').children:\n",
    "            apartment[\"features\"].append(feature.div.get_text(strip=True))\n",
    "            \n",
    "        apartment[\"sq_mt\"], apartment[\"rooms\"] = get_sqs_rooms(apt)\n",
    "        try:\n",
    "            apartment[\"short_description\"] = apt.find(class_ ='text-description-list product-description short-desc').get_text(strip=True)\n",
    "        except:\n",
    "            continue\n",
    "        apartment[\"title\"] = apt.find(class_ ='product-title').get_text(strip=True)\n",
    "        apartment[\"date\"] = apt.find(class_ ='publish-date').get_text(strip=True)\n",
    "        \n",
    "        new_url = get_apt_link(apt)\n",
    "        apartment[\"lat\"], apartment[\"long\"] = get_latlong(new_url)\n",
    "\n",
    "        apartments.append(apartment)"
   ]
  },
  {
   "cell_type": "code",
   "execution_count": 8,
   "id": "3ed2d6cf",
   "metadata": {},
   "outputs": [
    {
     "data": {
      "text/plain": [
       "517"
      ]
     },
     "execution_count": 8,
     "metadata": {},
     "output_type": "execute_result"
    }
   ],
   "source": [
    "len(apartments)"
   ]
  },
  {
   "cell_type": "code",
   "execution_count": null,
   "id": "b461bad4",
   "metadata": {},
   "outputs": [],
   "source": []
  },
  {
   "cell_type": "code",
   "execution_count": null,
   "id": "29d31a82",
   "metadata": {},
   "outputs": [],
   "source": []
  },
  {
   "cell_type": "code",
   "execution_count": null,
   "id": "17e2973d",
   "metadata": {},
   "outputs": [],
   "source": []
  },
  {
   "cell_type": "code",
   "execution_count": 10,
   "id": "e8776763",
   "metadata": {},
   "outputs": [],
   "source": [
    "# with open('apartments.json', 'w') as f:\n",
    "#     json.dump(apartments, f)"
   ]
  }
 ],
 "metadata": {
  "kernelspec": {
   "display_name": "Python 3 (ipykernel)",
   "language": "python",
   "name": "python3"
  },
  "language_info": {
   "codemirror_mode": {
    "name": "ipython",
    "version": 3
   },
   "file_extension": ".py",
   "mimetype": "text/x-python",
   "name": "python",
   "nbconvert_exporter": "python",
   "pygments_lexer": "ipython3",
   "version": "3.9.12"
  }
 },
 "nbformat": 4,
 "nbformat_minor": 5
}
